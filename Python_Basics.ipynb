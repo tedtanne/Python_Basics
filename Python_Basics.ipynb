{
 "cells": [
  {
   "cell_type": "markdown",
   "metadata": {},
   "source": [
    "## This is meant to be a very basic set python3 notebooks and cells. \n",
    "## Nothing fancy.  It helps to understand the basics over and over\n",
    "## This is markdown.  A great cheat sheet is here: https://github.com/adam-p/markdown-here/wiki/Markdown-Cheatsheet"
   ]
  },
  {
   "cell_type": "markdown",
   "metadata": {},
   "source": [
    "##### A good first step is just the proverbial \"Hello World\""
   ]
  },
  {
   "cell_type": "code",
   "execution_count": 41,
   "metadata": {},
   "outputs": [
    {
     "name": "stdout",
     "output_type": "stream",
     "text": [
      "Hello World!\n",
      "Hello Galaxy!\n",
      "Hello Universe!\n",
      "Hello Grain Of Sand!\n"
     ]
    }
   ],
   "source": [
    "print(\"Hello World!\")\n",
    "print(\"Hello Galaxy!\")\n",
    "print(\"Hello Universe!\")\n",
    "print(\"Hello Grain Of Sand!\")"
   ]
  },
  {
   "cell_type": "markdown",
   "metadata": {},
   "source": [
    "##### Next lets look at some basic mathmetmatical operators.  Dont worry most programmers arent math geniuses they lie about in most cases.  \n",
    "##### The basic operators are:\n",
    "##### + plus addition\n",
    "##### - minus subtraction\n",
    "##### / slash division\n",
    "##### * asterisk multiplcation\n",
    "##### % percent modulo\n",
    "##### < less-than\n",
    "##### > greater-than\n",
    "##### <= less-than-equal\n",
    "##### >= greater-than-equal\n",
    "##### // floor division\n",
    "##### ** exponentiation"
   ]
  },
  {
   "cell_type": "code",
   "execution_count": 30,
   "metadata": {},
   "outputs": [
    {
     "name": "stdout",
     "output_type": "stream",
     "text": [
      "Lets count some animals!\n",
      "Donkeys: 30.0\n",
      "Goats: 97\n",
      "Now lets count the chickens:\n",
      "6.75\n",
      "Is it true that 3 + 2 < 5-7 ? \n",
      "False\n",
      "what is 3 + 2  5\n",
      "What is 5 - 7 ?  -2\n",
      "OIC that is why it is FALSE!\n",
      "Hi there how about some more:\n",
      "Is it greater? True\n",
      "Is it greater or equal? True\n",
      "Is it less or equal? False\n",
      "is 5 equal to 6? False\n",
      "2 to  the power of 4 equals 16\n"
     ]
    }
   ],
   "source": [
    "print (\"Lets count some animals!\")\n",
    "print (\"Donkeys:\", 25 + 30 / 6)\n",
    "print (\"Goats:\", 100 - 25 * 3 % 4)\n",
    "print (\"Now lets count the chickens:\")\n",
    "print (3+2+1-5+4 % 2 -1 / 4 + 6)\n",
    "print (\"Is it true that 3 + 2 < 5-7 ? \")\n",
    "print (3 + 2 < 5 - 7)\n",
    "print (\"what is 3 + 2 \", 3 + 2)\n",
    "print (\"What is 5 - 7 ? \", 5 - 7)\n",
    "print (\"OIC that is why it is FALSE!\")\n",
    "print (\"Hi there how about some more:\")\n",
    "print (\"Is it greater?\", 5 > 2)\n",
    "print (\"Is it greater or equal?\", 5 >= 2)\n",
    "print (\"Is it less or equal?\", 5 <= 2)\n",
    "print (\"is 5 equal to 6?\", 5==6)\n",
    "print (\"2 to  the power of 4 equals\", 2**4)"
   ]
  },
  {
   "cell_type": "markdown",
   "metadata": {},
   "source": [
    "##### We are now going to cover variables types. Variables are nothing more than names that humans understand for values within the computer.  Computers talking to computers would be just a vector with binary (ones and zeros)  but that is a different notebook for the future."
   ]
  },
  {
   "cell_type": "code",
   "execution_count": 40,
   "metadata": {},
   "outputs": [
    {
     "name": "stdout",
     "output_type": "stream",
     "text": [
      "There are 200 cars available\n",
      "\n",
      "There are only  30 available\n",
      "\n",
      "There will be  170 empty cars today\n",
      "\n",
      "We can transport 120.0 humans today\n",
      "\n",
      "We have 90 humans to carpool today\n",
      "\n",
      "We need to put approximatley 3.0 humans in each car\n",
      "\n"
     ]
    }
   ],
   "source": [
    "# here we will learn the basics of carpooling and maybe you can \n",
    "# score a gig at your favorite ride sharing company in the future.\n",
    "# also this is the basis for scheduling, operations research and something \n",
    "# called linear programming\n",
    "# I am going to be overly verbose here\n",
    "# first assign the value of 200 to cars\n",
    "# (#) this is an 'octothorpe' aka Hashtag allows you to make comments\n",
    "# the Python interpreter will not try to execute anything afer the octothorpe. \n",
    "# Instead, it completely ignores comments. NOTE there is a way to modify ConfigParser\n",
    "# such that (#) line is not a comment but that is way in the future.\n",
    "\n",
    "cars = 200\n",
    "# number of seats in a car\n",
    "space_in_car = 4.0\n",
    "# number of drivers\n",
    "drivers = 30\n",
    "# number of passengers\n",
    "passengers = 90\n",
    "# number of cars not driven\n",
    "cars_not_driven = cars - drivers\n",
    "# number of cars driven\n",
    "cars_driven = drivers\n",
    "# the capacity of carpool a function of space\n",
    "car_pool_capacity = cars_driven * space_in_car\n",
    "# the average number of humans per car\n",
    "# also note I prefer the convention of (_) underscore\n",
    "# I also prefer caps at the begninning of vars which is a holdover\n",
    "# from my early Apple / MacOs MPW days\n",
    "average_passengers_per_car = passengers / cars_driven\n",
    "\n",
    "#here we output the results\n",
    "print ('There are' , cars,'cars available\\n')\n",
    "print ('There are only ', drivers, 'available\\n')\n",
    "print ('There will be ', cars_not_driven, 'empty cars today\\n')\n",
    "print (\"We can transport\", car_pool_capacity, \"humans today\\n\")\n",
    "print (\"We have\", passengers, \"humans to carpool today\\n\")\n",
    "print (\"We need to put approximatley\", average_passengers_per_car, \"humans in each car\\n\")"
   ]
  },
  {
   "cell_type": "markdown",
   "metadata": {},
   "source": [
    "##### Now we are going to discuss formatting and string variables. Understanding strings with decimals are formated is very important. also this can be tricky due to something called utf-8 as well as the (%) operator.  Good quick reference go here: https://mkaz.blog/code/python-string-format-cookbook/"
   ]
  },
  {
   "cell_type": "code",
   "execution_count": 44,
   "metadata": {},
   "outputs": [
    {
     "name": "stdout",
     "output_type": "stream",
     "text": [
      "we are going to discuss Mr. Ted Tanner Jr.\n"
     ]
    }
   ],
   "source": [
    "# Lets build a psuedo \"P2\" Personally Identifiable Information Vector\n",
    "# Technically we would want this is a dictionary but we will get to that later.\n",
    "# NOTE: Python 2.x and Python 3.x operate very differently here.  While the use of \n",
    "# (%) to format strings in Python 3 is still functional, it is recommended to use the new string.format(). \n",
    "# It is more powerful and % will be removed from the language at some point.Caveat Emptor.\n",
    "my_name = \"Ted Tanner Jr.\" #yup i'm a junior\n",
    "my_age = 40  #nope that's a lie\n",
    "my_eyes = \"Pink\" #nope that's a lie\n",
    "my_hair = \"Brown\" #yup that is true\n",
    "my_height = 71.0 #inches\n",
    "my_weight = 205.0 #lbs even though they changed the kilogram\n",
    "my_shoe_size = 10.5 #true\n",
    "my_tongue = \"Pink\" \n",
    "\n",
    "\n",
    "#lets see what happens on the output\n",
    "print (\"We are going to discuss Mr.\", my_name)"
   ]
  },
  {
   "cell_type": "code",
   "execution_count": null,
   "metadata": {},
   "outputs": [],
   "source": []
  }
 ],
 "metadata": {
  "kernelspec": {
   "display_name": "Python 3",
   "language": "python",
   "name": "python3"
  },
  "language_info": {
   "codemirror_mode": {
    "name": "ipython",
    "version": 3
   },
   "file_extension": ".py",
   "mimetype": "text/x-python",
   "name": "python",
   "nbconvert_exporter": "python",
   "pygments_lexer": "ipython3",
   "version": "3.7.0"
  }
 },
 "nbformat": 4,
 "nbformat_minor": 2
}
